{
 "cells": [
  {
   "cell_type": "markdown",
   "metadata": {},
   "source": [
    "# Functions, Scoping, Data Collections 1 & List Comprehensions"
   ]
  },
  {
   "cell_type": "markdown",
   "metadata": {},
   "source": [
    "## Tasks Today:\n",
    "\n",
    "<i>Monday Additions (or, and ... if statements)</i>\n",
    "\n",
    "1) String Manipulation <br>\n",
    " &nbsp;&nbsp;&nbsp;&nbsp; a) strip() <br>\n",
    " &nbsp;&nbsp;&nbsp;&nbsp; b) title() <br>\n",
    "2) Working With Lists <br>\n",
    " &nbsp;&nbsp;&nbsp;&nbsp; a) min() <br>\n",
    " &nbsp;&nbsp;&nbsp;&nbsp; b) max() <br>\n",
    " &nbsp;&nbsp;&nbsp;&nbsp; c) sum() <br>\n",
    " &nbsp;&nbsp;&nbsp;&nbsp; d) sort() <br>\n",
    " &nbsp;&nbsp;&nbsp;&nbsp; e) Copying a List <br>\n",
    " &nbsp;&nbsp;&nbsp;&nbsp; f) 'in' keyword <br>\n",
    " &nbsp;&nbsp;&nbsp;&nbsp; g) 'not in' keyword <br>\n",
    " &nbsp;&nbsp;&nbsp;&nbsp; i) Checking an Empty List <br>\n",
    " &nbsp;&nbsp;&nbsp;&nbsp; j) Removing Instances with a Loop <br>\n",
    "3) List Comprehensions <br>\n",
    "4) Tuples <br>\n",
    " &nbsp;&nbsp;&nbsp;&nbsp; a) sorted() <br>\n",
    "5) Functions <br>\n",
    " &nbsp;&nbsp;&nbsp;&nbsp; a) User-Defined vs. Built-In Functions <br>\n",
    " &nbsp;&nbsp;&nbsp;&nbsp; b) Accepting Parameters <br>\n",
    " &nbsp;&nbsp;&nbsp;&nbsp; c) Default Parameters <br>\n",
    " &nbsp;&nbsp;&nbsp;&nbsp; d) Making an Argument Optional <br>\n",
    " &nbsp;&nbsp;&nbsp;&nbsp; e) Keyword Arguments <br>\n",
    " &nbsp;&nbsp;&nbsp;&nbsp; f) Returning Values <br>\n",
    " &nbsp;&nbsp;&nbsp;&nbsp; g) *args <br>\n",
    " &nbsp;&nbsp;&nbsp;&nbsp; h) Docstring <br>\n",
    " &nbsp;&nbsp;&nbsp;&nbsp; i) Using a User Function in a Loop <br>\n",
    "6) Scope"
   ]
  },
  {
   "cell_type": "markdown",
   "metadata": {},
   "source": [
    "### String Manipulation"
   ]
  },
  {
   "cell_type": "markdown",
   "metadata": {},
   "source": [
    "##### .lstrip()"
   ]
  },
  {
   "cell_type": "code",
   "execution_count": 3,
   "metadata": {},
   "outputs": [
    {
     "name": "stdout",
     "output_type": "stream",
     "text": [
      "John Smith\n",
      "John Smith\n"
     ]
    }
   ],
   "source": [
    "# string.lstrip()\n",
    "# strip something from the left side of whatever string we have\n",
    "\n",
    "name = \"   hJohn Smith\"\n",
    "\n",
    "print(name.lstrip(\"  \" \"h\"))\n",
    "\n",
    "# Another way to do the exact same thing:\n",
    "name = \"   hJohn Smith\"\n",
    "stripped_name = name.lstrip(\"  \" \"h\")\n",
    "print(stripped_name)\n",
    "\n"
   ]
  },
  {
   "cell_type": "markdown",
   "metadata": {},
   "source": [
    "##### .rstrip()"
   ]
  },
  {
   "cell_type": "code",
   "execution_count": 5,
   "metadata": {},
   "outputs": [
    {
     "name": "stdout",
     "output_type": "stream",
     "text": [
      "Bill Ross\n",
      "Bill Ross    t\n"
     ]
    }
   ],
   "source": [
    "# string.rstrip()\n",
    "# strip something from the right side of whatever string we have\n",
    "\n",
    "name = \"Bill Ross     th\"\n",
    "print(name.rstrip(\"  \" \"th\"))\n",
    "\n",
    "# Another way to do the exact same thing:\n",
    "name = \"Bill Ross    th\"\n",
    "stripped_name = name.rstrip(\"  \" \"th\")\n",
    "print(stripped_name)"
   ]
  },
  {
   "cell_type": "markdown",
   "metadata": {},
   "source": [
    "##### .strip()"
   ]
  },
  {
   "cell_type": "code",
   "execution_count": 6,
   "metadata": {},
   "outputs": [
    {
     "name": "stdout",
     "output_type": "stream",
     "text": [
      "John Smith\n"
     ]
    }
   ],
   "source": [
    "# string.strip()\n",
    "# strip something from the BOTH sides of whatever string we have\n",
    "\n",
    "name = \"   John Smith    \"\n",
    "print(name.strip())\n"
   ]
  },
  {
   "cell_type": "markdown",
   "metadata": {},
   "source": [
    "##### .title()"
   ]
  },
  {
   "cell_type": "code",
   "execution_count": 8,
   "metadata": {},
   "outputs": [
    {
     "name": "stdout",
     "output_type": "stream",
     "text": [
      "Barack Obama\n",
      "BARACK OBAMA\n"
     ]
    }
   ],
   "source": [
    "# string.title()\n",
    "# Capitalizes first letter of each word in string:\n",
    "president = \"barack obama\"\n",
    "print(president.title())\n",
    "\n",
    "# Capitalizes all letters in a string:\n",
    "president = \"barack obama\"\n",
    "print(president.upper())\n",
    "\n",
    "# Makes all letters in a string lowercase:\n",
    "president = \"barack obama\"\n",
    "print(president.lower())\n"
   ]
  },
  {
   "cell_type": "markdown",
   "metadata": {},
   "source": [
    "### String Exercise <br>\n",
    "<p>Strip all white space and capitalize every name in the list given</p>"
   ]
  },
  {
   "cell_type": "code",
   "execution_count": 11,
   "metadata": {},
   "outputs": [
    {
     "name": "stdout",
     "output_type": "stream",
     "text": [
      "Connor\n",
      "Max\n",
      "Evan\n",
      "Jordan\n"
     ]
    }
   ],
   "source": [
    "names = ['    coNNor', 'max', ' EVan ', 'JORDAN']\n",
    "# HINT: You will need to use a for loop for iteration\n",
    "\n",
    "for name in names:\n",
    "    stripped_name = name.strip(\" \")\n",
    "    print(stripped_name.title())\n",
    "\n"
   ]
  },
  {
   "cell_type": "markdown",
   "metadata": {},
   "source": [
    "### Working With Lists"
   ]
  },
  {
   "cell_type": "markdown",
   "metadata": {},
   "source": [
    "##### min()"
   ]
  },
  {
   "cell_type": "code",
   "execution_count": 15,
   "metadata": {},
   "outputs": [
    {
     "name": "stdout",
     "output_type": "stream",
     "text": [
      "4\n"
     ]
    }
   ],
   "source": [
    "# min(list)\n",
    "numbers = [4, 5, 97, 54, 16]\n",
    "\n",
    "print(min(numbers))\n"
   ]
  },
  {
   "cell_type": "markdown",
   "metadata": {},
   "source": [
    "##### max()"
   ]
  },
  {
   "cell_type": "code",
   "execution_count": 16,
   "metadata": {},
   "outputs": [
    {
     "name": "stdout",
     "output_type": "stream",
     "text": [
      "97\n"
     ]
    }
   ],
   "source": [
    "# max(list)\n",
    "print(max(numbers))\n",
    "\n"
   ]
  },
  {
   "cell_type": "markdown",
   "metadata": {},
   "source": [
    "##### sum()"
   ]
  },
  {
   "cell_type": "code",
   "execution_count": 17,
   "metadata": {},
   "outputs": [
    {
     "name": "stdout",
     "output_type": "stream",
     "text": [
      "176\n"
     ]
    }
   ],
   "source": [
    "# sum(list)\n",
    "print(sum(numbers))\n"
   ]
  },
  {
   "cell_type": "markdown",
   "metadata": {},
   "source": [
    "##### sorted()"
   ]
  },
  {
   "cell_type": "code",
   "execution_count": 18,
   "metadata": {},
   "outputs": [
    {
     "name": "stdout",
     "output_type": "stream",
     "text": [
      "[4, 5, 16, 54, 97]\n"
     ]
    }
   ],
   "source": [
    "# sorted(list)\n",
    "# **Sorted DOES NOT change the original list.**Useful if you don't want to rearrange the original list**\n",
    "# **When using sorted(), you have to assign it to a variable**\n",
    "\n",
    "sorted_numbers = sorted(numbers)\n",
    "print(sorted_numbers)\n"
   ]
  },
  {
   "cell_type": "markdown",
   "metadata": {},
   "source": [
    "##### .sort() <br>\n",
    "<p>Difference between sort and sorted, is that sorted doesn't change original list it returns a copy, while .sort changes the original list</p>"
   ]
  },
  {
   "cell_type": "code",
   "execution_count": 21,
   "metadata": {},
   "outputs": [
    {
     "name": "stdout",
     "output_type": "stream",
     "text": [
      "Before sort: [4, 5, 16, 54, 97]\n",
      "None\n",
      "[4, 5, 16, 54, 97]\n"
     ]
    }
   ],
   "source": [
    "# list.sort()\n",
    "# **Use sorted when you DON'T want to alter original list, use .sort() when you WANT to alter original list**\n",
    "\n",
    "print(f'Before sort: {numbers}')\n",
    "# \"numbers.sort()\" below doesn't return anything, it's like a function. Result is: Before sort: [4, 5, 97, 54, 16] None\n",
    "print(numbers.sort())\n",
    "# Printing \"numbers\" from here on out will now be the sorted list of: [4, 5, 16, 54, 97]\n",
    "print(numbers)"
   ]
  },
  {
   "cell_type": "markdown",
   "metadata": {},
   "source": [
    "##### Copying a List"
   ]
  },
  {
   "cell_type": "code",
   "execution_count": 22,
   "metadata": {},
   "outputs": [
    {
     "name": "stdout",
     "output_type": "stream",
     "text": [
      "[4, 5, 16, 54, 97]\n"
     ]
    }
   ],
   "source": [
    "# [:] copies a list, doesn't alter original\n",
    "list_1 = numbers [:]\n",
    "print(list_1)"
   ]
  },
  {
   "cell_type": "markdown",
   "metadata": {},
   "source": [
    "##### 'in' keyword"
   ]
  },
  {
   "cell_type": "code",
   "execution_count": 23,
   "metadata": {},
   "outputs": [
    {
     "name": "stdout",
     "output_type": "stream",
     "text": [
      "Coding Temple Instructor\n"
     ]
    }
   ],
   "source": [
    "l_teachers = [\"Joel\", \"Derek\", \"Conner\", \"Brian\", \"Joe\"]\n",
    "\n",
    "if \"Derek\" in l_teachers:\n",
    "    print(\"Coding Temple Instructor\")\n",
    "else:\n",
    "    print(\"Not an instructor\")\n",
    "    \n",
    "for name in l_teachers:\n",
    "#    This is checking to see which(if any) items of a list start with \"C\" \n",
    "    if \"C\" in name[0]:\n",
    "        print(\"Found\")\n",
    "    else:\n",
    "        print(\"Not Found\")"
   ]
  },
  {
   "cell_type": "markdown",
   "metadata": {},
   "source": [
    "##### 'not in' keyword"
   ]
  },
  {
   "cell_type": "code",
   "execution_count": 24,
   "metadata": {},
   "outputs": [
    {
     "name": "stdout",
     "output_type": "stream",
     "text": [
      "Not a CT instructor\n"
     ]
    }
   ],
   "source": [
    "if \"zack\" not in l_teachers:\n",
    "    print(\"Not a CT instructor\")"
   ]
  },
  {
   "cell_type": "markdown",
   "metadata": {},
   "source": [
    "##### Checking an Empty List"
   ]
  },
  {
   "cell_type": "code",
   "execution_count": 25,
   "metadata": {},
   "outputs": [
    {
     "name": "stdout",
     "output_type": "stream",
     "text": [
      "Empty\n"
     ]
    }
   ],
   "source": [
    "# if l_1: or if l_1 = []\n",
    "list_2 = []\n",
    "\n",
    "if list_2 == []:\n",
    "    print(\"Empty\")"
   ]
  },
  {
   "cell_type": "markdown",
   "metadata": {},
   "source": [
    "##### Removing Instances with a Loop"
   ]
  },
  {
   "cell_type": "code",
   "execution_count": 27,
   "metadata": {},
   "outputs": [
    {
     "name": "stdout",
     "output_type": "stream",
     "text": [
      "['Conner', 'Joel', 'Max', 'Rob']\n"
     ]
    }
   ],
   "source": [
    "# while, remove\n",
    "\n",
    "names = [\"Conner\", \"Joel\", \"Max\", \"Evan\", \"Evan\", \"Rob\"]\n",
    "\n",
    "# *Gets rid of ALL instances of \"Evan\" in the list:\n",
    "# **While loop is cleaner way to do things, see below about for loop**\n",
    "# while \"Evan\" in  names:\n",
    "#     names.remove(\"Evan\")\n",
    "# print(names)\n",
    "\n",
    "# **This will print with one Evan still in list, because it removed Evan, which was index 3, \n",
    "# then went to index 4, so skipped the second Evan as it was not in index position 3 when it went to check index 4**\n",
    "for name in names:\n",
    "    if name == \"Evan\":\n",
    "        names.remove(\"Evan\")\n",
    "print(names)\n"
   ]
  },
  {
   "cell_type": "markdown",
   "metadata": {},
   "source": [
    "### List Exercise <br>\n",
    "<p>Remove all duplicates<br><b>Extra: Create a program that will remove any duplicates from a given list</b></p>"
   ]
  },
  {
   "cell_type": "code",
   "execution_count": 7,
   "metadata": {},
   "outputs": [
    {
     "name": "stdout",
     "output_type": "stream",
     "text": [
      "['connor', 'bob', 'evan', 'max', 2, 3, 4, 'kevin']\n"
     ]
    }
   ],
   "source": [
    "names = ['connor', 'connor', 'bob', 'connor', 'evan', 'max', 'evan', 2, 2, 2, 3, 3, 4, 'bob', 'kevin']\n",
    "# Hint 1: You will need an append\n",
    "# Hint 2: Using an empty list will make life easier\n",
    "\n",
    "dup_items = set()\n",
    "clean_list = []\n",
    "\n",
    "for name in names:\n",
    "    if name not in dup_items:\n",
    "        clean_list.append(name)\n",
    "        dup_items.add(name)\n",
    "\n",
    "print(clean_list)\n",
    "\n",
    "# Desired output: [\"connor\", \"bob\", \"evan\", \"max\", 2, 3, 4, \"kevin\"]"
   ]
  },
  {
   "cell_type": "markdown",
   "metadata": {},
   "source": [
    "### List Comprehensions <br>\n",
    "<p>Creating a quickly generated list to work with<br>*result*  = [*transform*    *iteration*         *filter*     ]</p>"
   ]
  },
  {
   "cell_type": "markdown",
   "metadata": {},
   "source": [
    "##### In a list comprehension we have a few pieces:\n",
    "1. The first is the counter/ variable - IN this the variable is x\n",
    "2. then we have a transform for the variable\n",
    "3. The finale part of a list comp is called the condition\n",
    "\n",
    "```python\n",
    "    [transform, variable, condition]\n",
    "```"
   ]
  },
  {
   "cell_type": "code",
   "execution_count": 13,
   "metadata": {},
   "outputs": [
    {
     "name": "stdout",
     "output_type": "stream",
     "text": [
      "[0, 4, 16, 36, 64, 100, 144, 196, 256, 324, 400, 484, 576, 676, 784, 900, 1024, 1156, 1296, 1444, 1600, 1764, 1936, 2116, 2304, 2500, 2704, 2916, 3136, 3364, 3600, 3844, 4096, 4356, 4624, 4900, 5184, 5476, 5776, 6084, 6400, 6724, 7056, 7396, 7744, 8100, 8464, 8836, 9216, 9604]\n",
      "[0, 4, 16, 36, 64, 100, 144, 196, 256, 324, 400, 484, 576, 676, 784, 900, 1024, 1156, 1296, 1444, 1600, 1764, 1936, 2116, 2304, 2500, 2704, 2916, 3136, 3364, 3600, 3844, 4096, 4356, 4624, 4900, 5184, 5476, 5776, 6084, 6400, 6724, 7056, 7396, 7744, 8100, 8464, 8836, 9216, 9604]\n",
      "[0, 4, 16, 36, 64, 100, 144, 196, 256, 324, 400, 484, 576, 676, 784, 900, 1024, 1156, 1296, 1444, 1600, 1764, 1936, 2116, 2304, 2500, 2704, 2916, 3136, 3364, 3600, 3844, 4096, 4356, 4624, 4900, 5184, 5476, 5776, 6084, 6400, 6724, 7056, 7396, 7744, 8100, 8464, 8836, 9216, 9604]\n"
     ]
    }
   ],
   "source": [
    "# **NOT EVERY FOR LOOP IN A LIST CAN BE WRITTEN AS A COMPREHENSION**\n",
    "# number comprehension\n",
    "\n",
    "# With a regular for loop\n",
    "nums = []\n",
    "\n",
    "# for i in range(100):\n",
    "#     nums.append(i)\n",
    "# print(nums)\n",
    "    \n",
    "#  **Same thing, but Adding conditional here:\n",
    "# for i in range(100):\n",
    "#     if i % 2 == 0:\n",
    "#         nums.append(i)\n",
    "# print(nums)\n",
    "        \n",
    "#  **Same thing, but now making it square each value:\n",
    "for i in range(100):\n",
    "    if i % 2 == 0:\n",
    "        nums.append(i**2)\n",
    "print(nums)\n",
    "\n",
    "print(nums)\n",
    "\n",
    "\n",
    "# IN a list comprehension we have a few pieces:\n",
    "#[variable, transform, condition]\n",
    "# nums_comp = [i for i in range(100)]\n",
    "# print(nums_comp)\n",
    "\n",
    "#  **Same thing here, but Adding conditional like above:\n",
    "# nums_comp = [i for i in range(100) if i % 2 == 0]\n",
    "# print(nums_comp)\n",
    "\n",
    "#  **Same thing, but now making it square each value:\n",
    "nums_comp = [i**2 for i in range(100) if i % 2 == 0]\n",
    "print(nums_comp)\n"
   ]
  },
  {
   "cell_type": "markdown",
   "metadata": {},
   "source": [
    "There are a few benefits to using List comprehensions. The most obvious would be that we now have shorter code to work with instead of using 3+ lines of code in the for loop variant.\n",
    "\n",
    "Another is an added benefit to memory usage. Since the list's memory is allocated first before adding elements to it, we don't have to resize the list once we add elements to it.\n",
    "\n",
    "Lastly, list comprehensions are considered the \"pythonic\" way to write code by the PEP8 standards (Python Style Guide)\n",
    "**Best way to write Python is using list comprehensions**"
   ]
  },
  {
   "cell_type": "code",
   "execution_count": 16,
   "metadata": {},
   "outputs": [
    {
     "name": "stdout",
     "output_type": "stream",
     "text": [
      "[0, 1, 4, 9, 16, 25, 36, 49, 64, 81]\n",
      "[0, 1, 4, 9, 16, 25, 36, 49, 64, 81]\n",
      "[0, 1, 4, 9, 16, 25, 36, 49, 64, 81]\n"
     ]
    }
   ],
   "source": [
    "# square number comprehension\n",
    "\n",
    "# *New way with list comprehension:\n",
    "squares = [x**2 for x in range(10)]\n",
    "print(squares)\n",
    "\n",
    "# ***An even more efficient way (don't need to worry too much about this yet)***\n",
    "print([x**2 for x in range(10)])\n",
    "\n",
    "# *Old way that takes more work / room / energy:\n",
    "squares_reg = []\n",
    "for x in range(10):\n",
    "    squares_reg.append(x**2)\n",
    "print(squares_reg)"
   ]
  },
  {
   "cell_type": "code",
   "execution_count": 20,
   "metadata": {},
   "outputs": [
    {
     "name": "stdout",
     "output_type": "stream",
     "text": [
      "['C', 'M', 'E', 'R']\n",
      "['C', 'M', 'E', 'R']\n"
     ]
    }
   ],
   "source": [
    "# string comprehension\n",
    "\n",
    "# *New way with list comprehension:\n",
    "names = [\"Conner\", \"Max\", \"Evan\", \"Rob\"]\n",
    "\n",
    "first_char_comp = [name[0] for name in names]\n",
    "print(first_char_comp)\n",
    "\n",
    "\n",
    "# *Old way that takes more work / room / energy:\n",
    "first_char = []\n",
    "\n",
    "for name in names:\n",
    "    first_char.append(name[0])\n",
    "print(first_char)\n"
   ]
  },
  {
   "cell_type": "code",
   "execution_count": 23,
   "metadata": {},
   "outputs": [
    {
     "name": "stdout",
     "output_type": "stream",
     "text": [
      "['Conner']\n",
      "['Conner']\n"
     ]
    }
   ],
   "source": [
    "# Using the \"if statement,\" it always comes AFTER the \"for\"\n",
    "\n",
    "# *Using new way:\n",
    "c_names = [first_name for first_name in names if first_name[0] == \"C\"]\n",
    "\n",
    "print(c_names)\n",
    "\n",
    "\n",
    "# *Using old way:\n",
    "c_names_reg = []\n",
    "\n",
    "for first_name in names:\n",
    "    if first_name[0] == \"C\":\n",
    "        c_names_reg.append(first_name)\n",
    "\n",
    "print(c_names_reg)"
   ]
  },
  {
   "cell_type": "code",
   "execution_count": null,
   "metadata": {},
   "outputs": [],
   "source": []
  },
  {
   "cell_type": "markdown",
   "metadata": {},
   "source": [
    "### Tuples <br>\n",
    "<p><b>Defined as an immutable list</b></p><br>Seperated by commas using parenthesis"
   ]
  },
  {
   "cell_type": "code",
   "execution_count": 31,
   "metadata": {},
   "outputs": [
    {
     "ename": "AttributeError",
     "evalue": "'tuple' object has no attribute 'pop'",
     "output_type": "error",
     "traceback": [
      "\u001b[1;31m---------------------------------------------------------------------------\u001b[0m",
      "\u001b[1;31mAttributeError\u001b[0m                            Traceback (most recent call last)",
      "\u001b[1;32m~\\AppData\\Local\\Temp\\ipykernel_17604\\1347415406.py\u001b[0m in \u001b[0;36m<module>\u001b[1;34m\u001b[0m\n\u001b[0;32m     26\u001b[0m \u001b[1;31m# *Adding pop() to above:\u001b[0m\u001b[1;33m\u001b[0m\u001b[1;33m\u001b[0m\u001b[0m\n\u001b[0;32m     27\u001b[0m \u001b[1;32mfor\u001b[0m \u001b[0mnumber\u001b[0m \u001b[1;32min\u001b[0m \u001b[0mrange\u001b[0m\u001b[1;33m(\u001b[0m\u001b[0mlen\u001b[0m\u001b[1;33m(\u001b[0m\u001b[0mtup_1\u001b[0m\u001b[1;33m)\u001b[0m\u001b[1;33m)\u001b[0m\u001b[1;33m:\u001b[0m\u001b[1;33m\u001b[0m\u001b[1;33m\u001b[0m\u001b[0m\n\u001b[1;32m---> 28\u001b[1;33m     \u001b[0mpopped_num\u001b[0m \u001b[1;33m=\u001b[0m \u001b[0mtup_1\u001b[0m\u001b[1;33m.\u001b[0m\u001b[0mpop\u001b[0m\u001b[1;33m(\u001b[0m\u001b[1;33m)\u001b[0m\u001b[1;33m\u001b[0m\u001b[1;33m\u001b[0m\u001b[0m\n\u001b[0m\u001b[0;32m     29\u001b[0m     \u001b[0mprint\u001b[0m\u001b[1;33m(\u001b[0m\u001b[0mpopped_num\u001b[0m\u001b[1;33m)\u001b[0m\u001b[1;33m\u001b[0m\u001b[1;33m\u001b[0m\u001b[0m\n\u001b[0;32m     30\u001b[0m \u001b[1;33m\u001b[0m\u001b[0m\n",
      "\u001b[1;31mAttributeError\u001b[0m: 'tuple' object has no attribute 'pop'"
     ]
    }
   ],
   "source": [
    "#  *** Tuples are unchangeable lists ***\n",
    "# **First way to create a tuple. *Brandon hasn't seen much of this:\n",
    "tup_1 = 1, 2, 3\n",
    "\n",
    "# Other way of creating a tuple, \"normal way\":\n",
    "tup_2 = (1,2,3)\n",
    "\n",
    "# print(type(tup_1))\n",
    "# print(type(tup_2))\n",
    "\n",
    "# *Retrieving and printing the first index (index = 0) from tup_1\n",
    "# print(tup_1[0])\n",
    "\n",
    "# *Retrieving and printing the length of tup_1\n",
    "#  **Length doesn't 0-index! Will get an answer of 3 for the print below even though index is (0,1,2) as normal**\n",
    "# print(len(tup_1))\n",
    "\n",
    "# *Looping over tuples:\n",
    "# for number in tup_1:\n",
    "#     print(number)\n",
    "\n",
    "# Looping over a tupel with an index using range and len:\n",
    "# for number in range(len(tup_1)):\n",
    "#     print(tup_1[number])\n",
    "\n",
    "# *****Adding pop() to above: (WON'T WORK!! Things that try to change (pop(), append(), sort(), etc., the tuple will NOT WORK)****\n",
    "# for number in range(len(tup_1)):\n",
    "#     popped_num = tup_1.pop()\n",
    "#     print(popped_num)\n",
    "\n"
   ]
  },
  {
   "cell_type": "markdown",
   "metadata": {},
   "source": [
    "##### sorted()"
   ]
  },
  {
   "cell_type": "code",
   "execution_count": 40,
   "metadata": {},
   "outputs": [
    {
     "name": "stdout",
     "output_type": "stream",
     "text": [
      "(1, 3, 5, 9, 20, 45, 3, 4, 66, 77, 33)\n",
      "(1, 3, 3, 4, 5, 9, 20, 33, 45, 66, 77)\n",
      "<class 'list'>\n",
      "(20, 5, 1, 3, 9, 45)\n"
     ]
    }
   ],
   "source": [
    "# **We CAN Sorted()!! Sorted() does return a new variable AND doesn't sort the original list, we CAN do this with Tuples:**\n",
    "#  *Using sorted() on a tuple:\n",
    "tup_3 = (20, 5, 1, 3, 9, 45)\n",
    "\n",
    "# **Sorted will return a list!**\n",
    "sorted_tup = sorted(tup_3)\n",
    "\n",
    "# **This prints as a List, NOT a tuple!**\n",
    "# print(sorted_tup)\n",
    "\n",
    "\n",
    "# *Turning the returned list from our sorted() above and changing to a tuple:\n",
    "random_list = [3, 4, 66, 77, 33]\n",
    "combine_list = sorted_tup + random_list\n",
    "\n",
    "# **Using \"tuple\" the same way as we would use \"int\" or \"str\", etc.:**\n",
    "new_tup = tuple(combine_list)\n",
    "\n",
    "print(new_tup)\n",
    "\n",
    "\n",
    "# *Taking same from above and sorting our created tuple from above:\n",
    "random_list = [3, 4, 66, 77, 33]\n",
    "combine_list = sorted(sorted_tup + random_list)\n",
    "\n",
    "# **Using \"tuple\" the same way as we would use \"int\" or \"str\", etc.:**\n",
    "new_tup = tuple(combine_list)\n",
    "\n",
    "print(new_tup)\n",
    "\n",
    "# **This is showing that \"sorted_tup\" is a list and NOT a tup!:**\n",
    "#  *****Different data types (string, integer, float, list, tuple, etc.) are IMPORTANT!!!****\n",
    "print(type(sorted_tup))\n",
    "# **This is showing that \"tup_3\" is still the same as it was in the beginning (CAN'T CHANGE TUPLES!!)**\n",
    "print(tup_3)\n",
    "\n"
   ]
  },
  {
   "cell_type": "markdown",
   "metadata": {},
   "source": [
    "##### Adding values to a Tuple"
   ]
  },
  {
   "cell_type": "code",
   "execution_count": 43,
   "metadata": {},
   "outputs": [
    {
     "ename": "SyntaxError",
     "evalue": "invalid syntax (545403825.py, line 3)",
     "output_type": "error",
     "traceback": [
      "\u001b[1;36m  File \u001b[1;32m\"C:\\Users\\kajen\\AppData\\Local\\Temp\\ipykernel_17604\\545403825.py\"\u001b[1;36m, line \u001b[1;32m3\u001b[0m\n\u001b[1;33m    ***Most of the ways we \"\"\u001b[0m\n\u001b[1;37m    ^\u001b[0m\n\u001b[1;31mSyntaxError\u001b[0m\u001b[1;31m:\u001b[0m invalid syntax\n"
     ]
    }
   ],
   "source": [
    "# **Oddly, you can add things to a tuple!**\n",
    "# **This is basically making a new variable of \"tup_1 + (5,)\" and making it called tup_1 by over-riding the original tup_1**\n",
    "# ***Most of the ways we \"change tuples\" are \"backdoor\" ways like this (just over-riding old variable and creating new):***\n",
    "tup_1 = tup_1 + (5,)\n",
    "print(tup_1)"
   ]
  },
  {
   "cell_type": "markdown",
   "metadata": {},
   "source": [
    "## Functions"
   ]
  },
  {
   "cell_type": "markdown",
   "metadata": {},
   "source": [
    "##### User-Defined vs. Built-In Functions"
   ]
  },
  {
   "cell_type": "code",
   "execution_count": 45,
   "metadata": {},
   "outputs": [
    {
     "data": {
      "text/plain": [
       "'Hello World'"
      ]
     },
     "execution_count": 45,
     "metadata": {},
     "output_type": "execute_result"
    }
   ],
   "source": [
    "#  *****FUNCTIONS ARE BREAD AND BUTTER OF A LOT OF PYTHON *****\n",
    "# ***Hard part upfront (creating functions, including complex ones) to make it easier as we go / down the road ***\n",
    "# **User defined!**Functions are like blue prints**Have to call them to something for them to do anything**\n",
    "# **Below \"sayHello\" is camel-case(firstLetterInFirstWordIsLowerCaseThenRestStartWithUpper)**Normal for functions to be this way\n",
    "# *Practice with functions:\n",
    "def sayHello():\n",
    "    return \"Hello World\"\n",
    "# Nothing happens until we call the function below to print it (Both options below do (basically/exact) same thing):\n",
    "sayHello()\n",
    "print(sayHello())\n",
    "# **print is also a function, that's why we have to have () when we use it **\n",
    "print()\n",
    "    \n"
   ]
  },
  {
   "cell_type": "markdown",
   "metadata": {},
   "source": [
    "##### Accepting Parameters"
   ]
  },
  {
   "cell_type": "code",
   "execution_count": 52,
   "metadata": {},
   "outputs": [
    {
     "name": "stdout",
     "output_type": "stream",
     "text": [
      "What is your first name? silly\n",
      "Hello, Alex Merkel\n",
      "Hello, silly Apol\n",
      "Hello, b Apol\n",
      "Hello, c Apol\n"
     ]
    }
   ],
   "source": [
    "# ***ARGUMENTS or PARAMETERS (mean same thing!)***(What you put inside the () of functions)***\n",
    "# **Order they appear in Matters**\n",
    "# **A variable can be any type of object**\n",
    "\n",
    "def printFullName(first_name, last_name):\n",
    "    return f\"Hello, {first_name} {last_name}\"\n",
    "\n",
    "a_name = input(\"What is your first name? \")\n",
    "\n",
    "# **Will only output last thing when done like below as it overwrites it (see further down for how to fix that):**\n",
    "printFullName(\"Alex\", \"Merkel\")\n",
    "printFullName(a_name, \"Apol\")\n",
    "printFullName(\"b\", \"Merkel\")\n",
    "printFullName(\"c\", \"Merkel\")\n",
    "\n",
    "# **This is how we fix it from above (put print() statements on each one):**\n",
    "print(printFullName(\"Alex\", \"Merkel\"))\n",
    "print(printFullName(a_name, \"Apol\"))\n",
    "print(printFullName(\"b\", \"Apol\"))\n",
    "print(printFullName(\"c\", \"Apol\"))"
   ]
  },
  {
   "cell_type": "markdown",
   "metadata": {},
   "source": [
    "##### Default Parameters"
   ]
  },
  {
   "cell_type": "code",
   "execution_count": 55,
   "metadata": {},
   "outputs": [
    {
     "ename": "SyntaxError",
     "evalue": "non-default argument follows default argument (3864274719.py, line 11)",
     "output_type": "error",
     "traceback": [
      "\u001b[1;36m  File \u001b[1;32m\"C:\\Users\\kajen\\AppData\\Local\\Temp\\ipykernel_17604\\3864274719.py\"\u001b[1;36m, line \u001b[1;32m11\u001b[0m\n\u001b[1;33m    def printAgentAgain(last_name = \"ever\", first_name)\u001b[0m\n\u001b[1;37m                                                      ^\u001b[0m\n\u001b[1;31mSyntaxError\u001b[0m\u001b[1;31m:\u001b[0m non-default argument follows default argument\n"
     ]
    }
   ],
   "source": [
    "# ***Default parameters need to be declared AFTER non-default parameters each time***\n",
    "# **Syntax for default parameters is \"= \"Bond\"\"\n",
    "\n",
    "# *Practicing default parameters:\n",
    "def printAgentName(first_name, last_name = \"Bond\"):\n",
    "    return f\"The name is {last_name} {first_name} {last_name}!\"\n",
    "\n",
    "print(printAgentName(\"Brandon\"))\n",
    "\n",
    "\n",
    "# ***DON'T DO THIS:***We need to put the \"last_name = \"ever\" AFTER \"first_name\" to set default parameter***\n",
    "def printAgentAgain(last_name = \"ever\", first_name)\n",
    "    return f\"Last name {last_name}, first name {first_name}!\"\n",
    "\n",
    "print(printAgentAgain(first_name = \"Greatest\"))\n"
   ]
  },
  {
   "cell_type": "markdown",
   "metadata": {},
   "source": [
    "##### Making an Argument Optional"
   ]
  },
  {
   "cell_type": "code",
   "execution_count": 61,
   "metadata": {},
   "outputs": [
    {
     "data": {
      "text/plain": [
       "'Hello Mr Sir James'"
      ]
     },
     "execution_count": 61,
     "metadata": {},
     "output_type": "execute_result"
    }
   ],
   "source": [
    "# **Putting the =\"\" lets the argument/parameter be optional (see below)**\n",
    "def printHorseName(first, middle =\"\", last = \"Ed\"):\n",
    "    return f\"Hello {first} {middle} {last}\"\n",
    " \n",
    "# This will not put anything in optional section, leave default last of Ed, and only print out \"Hello Mr   Ed\":\n",
    "printHorseName(\"Mr\")\n",
    "\n",
    "# This will put value in optional space, leave default last of Ed, and print out: \"'Hello Mr Sir Ed'\":\n",
    "printHorseName(\"Mr\", \"Sir\")\n",
    "\n",
    "# This will put value in optional space, change default last to \"James\", and print out: \"'Hello Mr Sir James'\":\n",
    "printHorseName(\"Mr\", \"Sir\", \"James\")\n"
   ]
  },
  {
   "cell_type": "markdown",
   "metadata": {},
   "source": [
    "##### Keyword Arguments"
   ]
  },
  {
   "cell_type": "code",
   "execution_count": 62,
   "metadata": {},
   "outputs": [
    {
     "data": {
      "text/plain": [
       "\"The hero's name is Superman and the superpower is flying\""
      ]
     },
     "execution_count": 62,
     "metadata": {},
     "output_type": "execute_result"
    }
   ],
   "source": [
    "# **We can change the order of things**Useful if you're putting data in that you want to rearrange**\n",
    "# **Brandon hasn't had to use this though (ways around it / other ways):\n",
    "# last_name='Max', first_name='Smith' in the function call\n",
    "def printSuperHero(name, power = \"flying\"):\n",
    "    return f\"The hero's name is {name} and the superpower is {power}\"\n",
    "\n",
    "# **Normal, not changing order of anything:\n",
    "printSuperHero(\"Superman\")\n",
    "\n",
    "# **Changing the order!:**Typically more time/space consuming**\n",
    "printSuperHero(power = \"Spidey sense\", name = \"Spider Man\")\n",
    "\n"
   ]
  },
  {
   "cell_type": "markdown",
   "metadata": {},
   "source": [
    "# Creating a start, stop, step function"
   ]
  },
  {
   "cell_type": "code",
   "execution_count": 1,
   "metadata": {},
   "outputs": [
    {
     "name": "stdout",
     "output_type": "stream",
     "text": [
      "5\n",
      "7\n",
      "9\n",
      "11\n",
      "13\n",
      "15\n",
      "17\n",
      "19\n"
     ]
    }
   ],
   "source": [
    "# ***** Try to do this without using range for an extra challenge!*****\n",
    "def my_range(stop, start=0, step=1):\n",
    "    for i in range(start, stop, step):\n",
    "        print(i)\n",
    "\n",
    "# Prints each number from 0-19:\n",
    "# my_range(20)\n",
    "# Prints increasing by 1 up to 19 using a start of 5:\n",
    "# my_range(20,5)\n",
    "# Gives us every other number, starting at 5 and going up to 19:\n",
    "my_range(20,5,2)"
   ]
  },
  {
   "cell_type": "markdown",
   "metadata": {},
   "source": [
    "##### Returning Values"
   ]
  },
  {
   "cell_type": "code",
   "execution_count": 2,
   "metadata": {},
   "outputs": [
    {
     "data": {
      "text/plain": [
       "7"
      ]
     },
     "execution_count": 2,
     "metadata": {},
     "output_type": "execute_result"
    }
   ],
   "source": [
    "# **Running code inside of the function and returning back data:**\n",
    "def addNums(num1, num2):\n",
    "    return num1 + num2\n",
    "\n",
    "addNums(5,2)"
   ]
  },
  {
   "cell_type": "markdown",
   "metadata": {},
   "source": [
    "##### *args"
   ]
  },
  {
   "cell_type": "code",
   "execution_count": 12,
   "metadata": {},
   "outputs": [
    {
     "name": "stdout",
     "output_type": "stream",
     "text": [
      "36\n",
      "('Dragonzord', 'vanilla', 2, 3)\n",
      "{'testing': 'joel'}\n",
      "Dragonzord\n",
      "vanilla\n",
      "2\n",
      "3\n",
      "testing\n",
      "<class 'str'>\n"
     ]
    }
   ],
   "source": [
    "# ***Args are to add any number of arguments depending on what a user would choose to give us***\n",
    "# **Args stands for arguments, and takes ANY number of arguments as parameters\n",
    "# **Must be last if multiple parameters are present\n",
    "# **KWARGS (Key Word ARGS)***Higher level stuff***Won't use everyday, but GOOD TO KNOW***Learn more in dictionaries section***\n",
    "\n",
    "\n",
    "def printArgs(num1, *args, **kwargs):\n",
    "#     *This prints, \"36\":\n",
    "    print(num1)\n",
    "#     *This prints, \"('Dragonzord', 'vanilla', 2, 3)\" as a TUPLE(A non-changeable list):\n",
    "    print(args)\n",
    "#     *This prints, \"{'testing': 'joel'}\" as a DICTIONARY:\n",
    "    print(kwargs)\n",
    "    \n",
    "# printArgs(36, \"Dragonzord\", \"vanilla\", 2, 3, testing=\"joel\")\n",
    "\n",
    "#   *This prints as, \"Dragonzord, vanilla, 2, 3\" individually:\n",
    "    for arg in args:\n",
    "        print(arg)\n",
    "#   *This prints as, \"testing\" as a string:\n",
    "    for kwarg in kwargs:\n",
    "        print(kwarg)\n",
    "        print(type(kwarg))\n",
    "        \n",
    "        \n",
    "        \n",
    "printArgs(36, \"Dragonzord\", \"vanilla\", 2, 3, testing=\"joel\")\n"
   ]
  },
  {
   "cell_type": "markdown",
   "metadata": {},
   "source": [
    "##### Docstring"
   ]
  },
  {
   "cell_type": "code",
   "execution_count": 15,
   "metadata": {},
   "outputs": [
    {
     "name": "stdout",
     "output_type": "stream",
     "text": [
      "George\n",
      "Ramon\n",
      "Peter\n",
      "Help on function printNames in module __main__:\n",
      "\n",
      "printNames(list_1)\n",
      "    Function requires a list to be passed as a parameter\n",
      "    and will print the contents of the list. Expecting a list of\n",
      "    names(strings) to be passed\n",
      "\n"
     ]
    }
   ],
   "source": [
    "# **Tells people reading/using code what you need to know. Explains your defined functions****VERY USEFUL****\n",
    "# *This explains what a range is and the format that is in is a docstring. Good to know for showing users how our functions work*\n",
    "# help(range)\n",
    "\n",
    "# ***Starndard practice with spacing, etc.:***\n",
    "def printNames(list_1):\n",
    "    '''\n",
    "        Function requires a list to be passed as a parameter\n",
    "        and will print the contents of the list. Expecting a list of\n",
    "        names(strings) to be passed\n",
    "    '''\n",
    "    for name in list_1:\n",
    "        print(name)\n",
    "        \n",
    "#  *This will print each of the items in the list (\"George\", \"Ramon\", \"Peter\") by itself as a string:       \n",
    "printNames([\"George\", \"Ramon\", \"Peter\"])\n",
    "\n",
    "#  *This is where the docstring goes and how to bring it up:\n",
    "help(printNames)\n"
   ]
  },
  {
   "cell_type": "markdown",
   "metadata": {},
   "source": [
    "##### Using a User Function in a Loop"
   ]
  },
  {
   "cell_type": "code",
   "execution_count": 17,
   "metadata": {},
   "outputs": [
    {
     "name": "stdout",
     "output_type": "stream",
     "text": [
      "Are you ready to quit? NO\n",
      "What do you want to do? Idk\n",
      "Idk\n",
      "Ready yet? no\n",
      "What do you want to do? idk\n",
      "idk\n",
      "Ready yet? quit\n"
     ]
    }
   ],
   "source": [
    "def printInput(answer):\n",
    "    print(answer)\n",
    "    \n",
    "response = input(\"Are you ready to quit? \")\n",
    "\n",
    "while True:\n",
    "    ask = input(\"What do you want to do? \")\n",
    "#     ***Most important piece was that we called for \"printInput(ask)\" and it printed it back out again: ***\n",
    "    printInput(ask)\n",
    "    \n",
    "    response = input(\"Ready yet? \")\n",
    "    if response.lower() == \"quit\":\n",
    "        break"
   ]
  },
  {
   "cell_type": "markdown",
   "metadata": {},
   "source": [
    "## Function Exercise <br>\n",
    "<p>Write a function that loops through a list of first_names and a list of last_names, combines the two and return a list of full_names</p>"
   ]
  },
  {
   "cell_type": "code",
   "execution_count": 84,
   "metadata": {},
   "outputs": [
    {
     "name": "stdout",
     "output_type": "stream",
     "text": [
      "['John Smith', 'Evan Smith', 'Jordan Williams', 'Max Bell']\n"
     ]
    }
   ],
   "source": [
    "first_name = ['John', 'Evan', 'Jordan', 'Max']\n",
    "last_name = ['Smith', 'Smith', 'Williams', 'Bell']\n",
    "# Output: ['John Smith', 'Evan Smith', 'Jordan Williams', 'Max Bell']\n",
    "full_name = []\n",
    "\n",
    "def combineNames():\n",
    "    comb = zip(first_name, last_name)\n",
    "    for first, last in comb:\n",
    "        full_name.append(f\"{first} {last}\")\n",
    "    return full_name\n",
    "\n",
    "print(combineNames())"
   ]
  },
  {
   "cell_type": "markdown",
   "metadata": {},
   "source": [
    "## Scope <br>\n",
    "<p>Scope refers to the ability to access variables, different types of scope include:<br>a) Global<br>b) Function (local)<br>c) Class (local)</p>"
   ]
  },
  {
   "cell_type": "code",
   "execution_count": 33,
   "metadata": {},
   "outputs": [
    {
     "name": "stdout",
     "output_type": "stream",
     "text": [
      "3\n",
      "6\n"
     ]
    }
   ],
   "source": [
    "# **Scope is very important! Sometimes we need to access variables in multiple functions. Where you put those vars MATTERS!**\n",
    "# *Below is a Global Variable; access to ANYWHERE in my code now:*\n",
    "number = 3\n",
    "\n",
    "# *Below is a Local Function variable; accessible inside of my function:*\n",
    "def myFunc():\n",
    "    number = 6\n",
    "    return number\n",
    "\n",
    "# This results in \"3\" being printed:\n",
    "print(number)\n",
    "# This results in \"6\" being printed:\n",
    "print(myFunc())\n",
    "\n",
    "\n"
   ]
  },
  {
   "cell_type": "markdown",
   "metadata": {},
   "source": [
    "# Exercises"
   ]
  },
  {
   "cell_type": "markdown",
   "metadata": {},
   "source": [
    "## Exercise 1 <br>\n",
    "<p>Given a list as a parameter,write a function that returns a list of numbers that are less than ten</b></i></p><br>\n",
    "<p> For example: Say your input parameter to the function is [1,11,14,5,8,9]...Your output should [1,5,8,9]</p>"
   ]
  },
  {
   "cell_type": "code",
   "execution_count": 85,
   "metadata": {},
   "outputs": [
    {
     "name": "stdout",
     "output_type": "stream",
     "text": [
      "[1, 5, 8, 9]\n"
     ]
    }
   ],
   "source": [
    "# Use the following list - [1,11,14,5,8,9]\n",
    "\n",
    "list_1 = [1,11,14,5,8,9]\n",
    "\n",
    "\n",
    "new_list = [i for i in list_1 if i < 10]\n",
    "print(new_list)"
   ]
  },
  {
   "cell_type": "markdown",
   "metadata": {},
   "source": [
    "## Exercise 2 <br>\n",
    "<p>Write a function that takes in two lists and returns the two lists merged together and sorted<br>\n",
    "<b><i>Hint: You can use the .sort() method</i></b></p>"
   ]
  },
  {
   "cell_type": "code",
   "execution_count": 88,
   "metadata": {},
   "outputs": [
    {
     "name": "stdout",
     "output_type": "stream",
     "text": [
      "[1, 2, 3, 4, 5, 6, 7, 8, 10]\n"
     ]
    }
   ],
   "source": [
    "# Hint write function:\n",
    "\n",
    "list_1 = [1,2,3,4,5,6]\n",
    "list_2 = [3,4,5,6,7,8,10]\n",
    "\n",
    "def combineList():\n",
    "    list_3 = list_1 + list_2\n",
    "    list_4 = []\n",
    "    [list_4.append(num) for num in list_3 if num not in list_4]\n",
    "    list_4.sort()\n",
    "    return list_4\n",
    "\n",
    "print(combineList())"
   ]
  },
  {
   "cell_type": "code",
   "execution_count": null,
   "metadata": {},
   "outputs": [],
   "source": []
  }
 ],
 "metadata": {
  "kernelspec": {
   "display_name": "Python 3 (ipykernel)",
   "language": "python",
   "name": "python3"
  },
  "language_info": {
   "codemirror_mode": {
    "name": "ipython",
    "version": 3
   },
   "file_extension": ".py",
   "mimetype": "text/x-python",
   "name": "python",
   "nbconvert_exporter": "python",
   "pygments_lexer": "ipython3",
   "version": "3.9.13"
  }
 },
 "nbformat": 4,
 "nbformat_minor": 2
}
